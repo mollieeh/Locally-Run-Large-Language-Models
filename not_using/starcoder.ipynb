{
 "cells": [
  {
   "cell_type": "markdown",
   "id": "f8a24580",
   "metadata": {},
   "source": [
    "# Starcoder\n",
    "\n",
    "- https://ollama.com/library/starcoder2\n",
    "- https://github.com/bigcode-project/starcoder2\n",
    "- https://huggingface.co/bigcode\n",
    "\n",
    "Context:\n",
    "\n",
    "This version has 15 billion parameters and was trained on over 600 different programming languages"
   ]
  }
 ],
 "metadata": {
  "language_info": {
   "name": "python"
  }
 },
 "nbformat": 4,
 "nbformat_minor": 5
}
