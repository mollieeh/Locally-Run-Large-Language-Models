{
 "cells": [
  {
   "cell_type": "markdown",
   "id": "fdf6a606",
   "metadata": {},
   "source": [
    "# Exploration of Capabilities, Limits, and Purposes for Large Language Models"
   ]
  },
  {
   "cell_type": "code",
   "execution_count": 1,
   "id": "24260454",
   "metadata": {},
   "outputs": [
    {
     "name": "stdout",
     "output_type": "stream",
     "text": [
      "=== Running tasks for model: llama2 ===\n",
      "\n",
      "--- Task: General Question Answering ---\n",
      "[ERROR from llama2]: {\"error\":\"model 'llama2' not found\"}\n",
      "\n",
      "--- Task: Text Summarization ---\n",
      "[ERROR from llama2]: {\"error\":\"model 'llama2' not found\"}\n",
      "\n",
      "--- Task: Simple Code Generation ---\n",
      "[ERROR from llama2]: {\"error\":\"model 'llama2' not found\"}\n",
      "\n",
      "--- Task: Creative Writing ---\n",
      "[ERROR from llama2]: {\"error\":\"model 'llama2' not found\"}\n",
      "\n",
      "=== Running tasks for model: mistral ===\n",
      "\n",
      "--- Task: General Question Answering ---\n",
      "[ERROR from mistral]: {\"error\":\"model 'mistral' not found\"}\n",
      "\n",
      "--- Task: Text Summarization ---\n",
      "[ERROR from mistral]: {\"error\":\"model 'mistral' not found\"}\n",
      "\n",
      "--- Task: Simple Code Generation ---\n",
      "[ERROR from mistral]: {\"error\":\"model 'mistral' not found\"}\n",
      "\n",
      "--- Task: Creative Writing ---\n",
      "[ERROR from mistral]: {\"error\":\"model 'mistral' not found\"}\n",
      "\n",
      "=== Running tasks for model: gemma ===\n",
      "\n",
      "--- Task: General Question Answering ---\n",
      "[ERROR from gemma]: {\"error\":\"model 'gemma' not found\"}\n",
      "\n",
      "--- Task: Text Summarization ---\n",
      "[ERROR from gemma]: {\"error\":\"model 'gemma' not found\"}\n",
      "\n",
      "--- Task: Simple Code Generation ---\n",
      "[ERROR from gemma]: {\"error\":\"model 'gemma' not found\"}\n",
      "\n",
      "--- Task: Creative Writing ---\n",
      "[ERROR from gemma]: {\"error\":\"model 'gemma' not found\"}\n",
      "\n"
     ]
    }
   ],
   "source": [
    "import requests\n",
    "import json\n",
    "\n",
    "# Define your three local models\n",
    "models = ['llama2', 'mistral', 'gemma']\n",
    "\n",
    "# Define the tasks and their prompts\n",
    "tasks = {\n",
    "    \"General Question Answering\": \"What is the capital of Australia?\",\n",
    "    \"Text Summarization\": (\n",
    "        \"Summarize the following paragraph:\\n\"\n",
    "        \"Artificial intelligence (AI) is a field of computer science that aims to create systems capable of performing tasks that typically require human intelligence. \"\n",
    "        \"These tasks include reasoning, learning, problem-solving, perception, and language understanding. AI is a multidisciplinary field, drawing from areas such as computer science, mathematics, psychology, linguistics, and neuroscience.\"\n",
    "    ),\n",
    "    \"Simple Code Generation\": \"Write a Python function that returns the Fibonacci sequence up to n.\",\n",
    "    \"Creative Writing\": \"Write a short story beginning with the sentence: 'The lights flickered as the storm rolled in...'\"\n",
    "}\n",
    "\n",
    "# Function to call Ollama model\n",
    "def query_ollama(model_name, prompt):\n",
    "    url = \"http://localhost:11434/api/generate\"\n",
    "    payload = {\n",
    "        \"model\": model_name,\n",
    "        \"prompt\": prompt,\n",
    "        \"stream\": False\n",
    "    }\n",
    "    headers = {\n",
    "        \"Content-Type\": \"application/json\"\n",
    "    }\n",
    "    response = requests.post(url, headers=headers, data=json.dumps(payload))\n",
    "    if response.status_code == 200:\n",
    "        return response.json()[\"response\"].strip()\n",
    "    else:\n",
    "        return f\"[ERROR from {model_name}]: {response.text.strip()}\"\n",
    "\n",
    "# Store all results\n",
    "results = {}\n",
    "\n",
    "# Iterate through each model and task\n",
    "for model in models:\n",
    "    print(f\"=== Running tasks for model: {model} ===\\n\")\n",
    "    results[model] = {}\n",
    "    for task_name, prompt in tasks.items():\n",
    "        print(f\"--- Task: {task_name} ---\")\n",
    "        response = query_ollama(model, prompt)\n",
    "        results[model][task_name] = response\n",
    "        print(response + \"\\n\")\n",
    "\n",
    "# (Optional) You could format these results into a DataFrame for side-by-side comparison\n"
   ]
  },
  {
   "cell_type": "code",
   "execution_count": null,
   "id": "e28bb2fc",
   "metadata": {},
   "outputs": [],
   "source": [
    "import pandas as pd\n",
    "\n",
    "# Convert to DataFrame\n",
    "df = pd.DataFrame(results).T  # Transpose to have models as rows\n",
    "df.style.set_properties(**{'text-align': 'left'})\n"
   ]
  }
 ],
 "metadata": {
  "kernelspec": {
   "display_name": "base",
   "language": "python",
   "name": "python3"
  },
  "language_info": {
   "codemirror_mode": {
    "name": "ipython",
    "version": 3
   },
   "file_extension": ".py",
   "mimetype": "text/x-python",
   "name": "python",
   "nbconvert_exporter": "python",
   "pygments_lexer": "ipython3",
   "version": "3.12.7"
  }
 },
 "nbformat": 4,
 "nbformat_minor": 5
}
